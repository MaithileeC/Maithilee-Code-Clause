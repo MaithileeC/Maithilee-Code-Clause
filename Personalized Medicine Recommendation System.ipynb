{
 "cells": [
  {
   "cell_type": "code",
   "execution_count": 1,
   "metadata": {
    "_cell_guid": "b1076dfc-b9ad-4769-8c92-a6c4dae69d19",
    "_uuid": "8f2839f25d086af736a60e9eeb907d3b93b6e0e5",
    "execution": {
     "iopub.execute_input": "2022-05-26T15:21:29.887653Z",
     "iopub.status.busy": "2022-05-26T15:21:29.887162Z",
     "iopub.status.idle": "2022-05-26T15:21:29.923894Z",
     "shell.execute_reply": "2022-05-26T15:21:29.923084Z",
     "shell.execute_reply.started": "2022-05-26T15:21:29.887562Z"
    }
   },
   "outputs": [],
   "source": [
    "# This Python 3 environment comes with many helpful analytics libraries installed\n",
    "# It is defined by the kaggle/python Docker image: https://github.com/kaggle/docker-python\n",
    "# For example, here's several helpful packages to load\n",
    "\n",
    "import numpy as np # linear algebra\n",
    "import pandas as pd # data processing, CSV file I/O (e.g. pd.read_csv)\n",
    "\n",
    "# Input data files are available in the read-only \"../input/\" directory\n",
    "# For example, running this (by clicking run or pressing Shift+Enter) will list all files under the input directory\n",
    "\n",
    "import os\n",
    "for dirname, _, filenames in os.walk('/kaggle/input'):\n",
    "    for filename in filenames:\n",
    "        print(os.path.join(dirname, filename))\n",
    "\n",
    "# You can write up to 20GB to the current directory (/kaggle/working/) that gets preserved as output when you create a version using \"Save & Run All\" \n",
    "# You can also write temporary files to /kaggle/temp/, but they won't be saved outside of the current session"
   ]
  },
  {
   "cell_type": "code",
   "execution_count": 2,
   "metadata": {
    "execution": {
     "iopub.execute_input": "2022-05-26T15:22:10.370195Z",
     "iopub.status.busy": "2022-05-26T15:22:10.369768Z",
     "iopub.status.idle": "2022-05-26T15:22:10.423042Z",
     "shell.execute_reply": "2022-05-26T15:22:10.422102Z",
     "shell.execute_reply.started": "2022-05-26T15:22:10.370167Z"
    }
   },
   "outputs": [],
   "source": [
    "medicines = pd.read_csv('C:/Users/91772/Desktop/Code Clause/medicine.csv')"
   ]
  },
  {
   "cell_type": "code",
   "execution_count": 3,
   "metadata": {
    "execution": {
     "iopub.execute_input": "2022-05-26T15:22:17.329081Z",
     "iopub.status.busy": "2022-05-26T15:22:17.328665Z",
     "iopub.status.idle": "2022-05-26T15:22:17.352018Z",
     "shell.execute_reply": "2022-05-26T15:22:17.350989Z",
     "shell.execute_reply.started": "2022-05-26T15:22:17.329047Z"
    }
   },
   "outputs": [
    {
     "data": {
      "text/html": [
       "<div>\n",
       "<style scoped>\n",
       "    .dataframe tbody tr th:only-of-type {\n",
       "        vertical-align: middle;\n",
       "    }\n",
       "\n",
       "    .dataframe tbody tr th {\n",
       "        vertical-align: top;\n",
       "    }\n",
       "\n",
       "    .dataframe thead th {\n",
       "        text-align: right;\n",
       "    }\n",
       "</style>\n",
       "<table border=\"1\" class=\"dataframe\">\n",
       "  <thead>\n",
       "    <tr style=\"text-align: right;\">\n",
       "      <th></th>\n",
       "      <th>index</th>\n",
       "      <th>Drug_Name</th>\n",
       "      <th>Reason</th>\n",
       "      <th>Description</th>\n",
       "    </tr>\n",
       "  </thead>\n",
       "  <tbody>\n",
       "    <tr>\n",
       "      <th>0</th>\n",
       "      <td>1</td>\n",
       "      <td>A CN Gel(Topical) 20gmA CN Soap 75gm</td>\n",
       "      <td>Acne</td>\n",
       "      <td>Mild to moderate acne (spots)</td>\n",
       "    </tr>\n",
       "    <tr>\n",
       "      <th>1</th>\n",
       "      <td>2</td>\n",
       "      <td>A Ret 0.05% Gel 20gmA Ret 0.1% Gel 20gmA Ret 0...</td>\n",
       "      <td>Acne</td>\n",
       "      <td>A RET 0.025% is a prescription medicine that i...</td>\n",
       "    </tr>\n",
       "    <tr>\n",
       "      <th>2</th>\n",
       "      <td>3</td>\n",
       "      <td>ACGEL CL NANO Gel 15gm</td>\n",
       "      <td>Acne</td>\n",
       "      <td>It is used to treat acne vulgaris in people 12...</td>\n",
       "    </tr>\n",
       "    <tr>\n",
       "      <th>3</th>\n",
       "      <td>4</td>\n",
       "      <td>ACGEL NANO Gel 15gm</td>\n",
       "      <td>Acne</td>\n",
       "      <td>It is used to treat acne vulgaris in people 12...</td>\n",
       "    </tr>\n",
       "    <tr>\n",
       "      <th>4</th>\n",
       "      <td>5</td>\n",
       "      <td>Acleen 1% Lotion 25ml</td>\n",
       "      <td>Acne</td>\n",
       "      <td>treat the most severe form of acne (nodular ac...</td>\n",
       "    </tr>\n",
       "  </tbody>\n",
       "</table>\n",
       "</div>"
      ],
      "text/plain": [
       "   index                                          Drug_Name Reason  \\\n",
       "0      1               A CN Gel(Topical) 20gmA CN Soap 75gm   Acne   \n",
       "1      2  A Ret 0.05% Gel 20gmA Ret 0.1% Gel 20gmA Ret 0...   Acne   \n",
       "2      3                             ACGEL CL NANO Gel 15gm   Acne   \n",
       "3      4                                ACGEL NANO Gel 15gm   Acne   \n",
       "4      5                              Acleen 1% Lotion 25ml   Acne   \n",
       "\n",
       "                                         Description  \n",
       "0                      Mild to moderate acne (spots)  \n",
       "1  A RET 0.025% is a prescription medicine that i...  \n",
       "2  It is used to treat acne vulgaris in people 12...  \n",
       "3  It is used to treat acne vulgaris in people 12...  \n",
       "4  treat the most severe form of acne (nodular ac...  "
      ]
     },
     "execution_count": 3,
     "metadata": {},
     "output_type": "execute_result"
    }
   ],
   "source": [
    "medicines.head()"
   ]
  },
  {
   "cell_type": "code",
   "execution_count": 4,
   "metadata": {
    "execution": {
     "iopub.execute_input": "2022-05-26T15:22:24.310198Z",
     "iopub.status.busy": "2022-05-26T15:22:24.309304Z",
     "iopub.status.idle": "2022-05-26T15:22:24.316390Z",
     "shell.execute_reply": "2022-05-26T15:22:24.315341Z",
     "shell.execute_reply.started": "2022-05-26T15:22:24.310152Z"
    }
   },
   "outputs": [
    {
     "data": {
      "text/plain": [
       "(9720, 4)"
      ]
     },
     "execution_count": 4,
     "metadata": {},
     "output_type": "execute_result"
    }
   ],
   "source": [
    "medicines.shape"
   ]
  },
  {
   "cell_type": "code",
   "execution_count": 5,
   "metadata": {
    "execution": {
     "iopub.execute_input": "2022-05-26T15:22:30.317290Z",
     "iopub.status.busy": "2022-05-26T15:22:30.316922Z",
     "iopub.status.idle": "2022-05-26T15:22:30.330892Z",
     "shell.execute_reply": "2022-05-26T15:22:30.329902Z",
     "shell.execute_reply.started": "2022-05-26T15:22:30.317261Z"
    }
   },
   "outputs": [
    {
     "data": {
      "text/plain": [
       "index          0\n",
       "Drug_Name      0\n",
       "Reason         0\n",
       "Description    0\n",
       "dtype: int64"
      ]
     },
     "execution_count": 5,
     "metadata": {},
     "output_type": "execute_result"
    }
   ],
   "source": [
    "medicines.isnull().sum()"
   ]
  },
  {
   "cell_type": "code",
   "execution_count": 6,
   "metadata": {
    "execution": {
     "iopub.execute_input": "2022-05-26T15:22:36.541860Z",
     "iopub.status.busy": "2022-05-26T15:22:36.541469Z",
     "iopub.status.idle": "2022-05-26T15:22:36.558756Z",
     "shell.execute_reply": "2022-05-26T15:22:36.557372Z",
     "shell.execute_reply.started": "2022-05-26T15:22:36.541830Z"
    }
   },
   "outputs": [],
   "source": [
    "medicines.dropna(inplace=True)"
   ]
  },
  {
   "cell_type": "code",
   "execution_count": 7,
   "metadata": {
    "execution": {
     "iopub.execute_input": "2022-05-26T15:27:45.781805Z",
     "iopub.status.busy": "2022-05-26T15:27:45.781384Z",
     "iopub.status.idle": "2022-05-26T15:27:45.801395Z",
     "shell.execute_reply": "2022-05-26T15:27:45.800506Z",
     "shell.execute_reply.started": "2022-05-26T15:27:45.781772Z"
    }
   },
   "outputs": [
    {
     "data": {
      "text/plain": [
       "0"
      ]
     },
     "execution_count": 7,
     "metadata": {},
     "output_type": "execute_result"
    }
   ],
   "source": [
    "medicines.duplicated().sum()"
   ]
  },
  {
   "cell_type": "code",
   "execution_count": 8,
   "metadata": {
    "execution": {
     "iopub.execute_input": "2022-05-26T15:27:52.263507Z",
     "iopub.status.busy": "2022-05-26T15:27:52.263107Z",
     "iopub.status.idle": "2022-05-26T15:27:52.271658Z",
     "shell.execute_reply": "2022-05-26T15:27:52.270787Z",
     "shell.execute_reply.started": "2022-05-26T15:27:52.263462Z"
    }
   },
   "outputs": [
    {
     "data": {
      "text/plain": [
       "0                           Mild to moderate acne (spots)\n",
       "1       A RET 0.025% is a prescription medicine that i...\n",
       "2       It is used to treat acne vulgaris in people 12...\n",
       "3       It is used to treat acne vulgaris in people 12...\n",
       "4       treat the most severe form of acne (nodular ac...\n",
       "                              ...                        \n",
       "9715                              used for treating warts\n",
       "9716                        used to soften the skin cells\n",
       "9717                                       used for scars\n",
       "9718                                      used for wounds\n",
       "9719    used to treat and remove raised warts (usually...\n",
       "Name: Description, Length: 9720, dtype: object"
      ]
     },
     "execution_count": 8,
     "metadata": {},
     "output_type": "execute_result"
    }
   ],
   "source": [
    "medicines['Description']"
   ]
  },
  {
   "cell_type": "code",
   "execution_count": 9,
   "metadata": {
    "execution": {
     "iopub.execute_input": "2022-05-26T15:27:59.454448Z",
     "iopub.status.busy": "2022-05-26T15:27:59.453961Z",
     "iopub.status.idle": "2022-05-26T15:27:59.484759Z",
     "shell.execute_reply": "2022-05-26T15:27:59.483653Z",
     "shell.execute_reply.started": "2022-05-26T15:27:59.454413Z"
    }
   },
   "outputs": [
    {
     "data": {
      "text/plain": [
       "0                     [Mild, to, moderate, acne, (spots)]\n",
       "1       [A, RET, 0.025%, is, a, prescription, medicine...\n",
       "2       [It, is, used, to, treat, acne, vulgaris, in, ...\n",
       "3       [It, is, used, to, treat, acne, vulgaris, in, ...\n",
       "4       [treat, the, most, severe, form, of, acne, (no...\n",
       "                              ...                        \n",
       "9715                         [used, for, treating, warts]\n",
       "9716                 [used, to, soften, the, skin, cells]\n",
       "9717                                   [used, for, scars]\n",
       "9718                                  [used, for, wounds]\n",
       "9719    [used, to, treat, and, remove, raised, warts, ...\n",
       "Name: Description, Length: 9720, dtype: object"
      ]
     },
     "execution_count": 9,
     "metadata": {},
     "output_type": "execute_result"
    }
   ],
   "source": [
    "medicines['Description'].apply(lambda x:x.split())"
   ]
  },
  {
   "cell_type": "code",
   "execution_count": 10,
   "metadata": {
    "execution": {
     "iopub.execute_input": "2022-05-26T15:28:05.937681Z",
     "iopub.status.busy": "2022-05-26T15:28:05.937209Z",
     "iopub.status.idle": "2022-05-26T15:28:05.968340Z",
     "shell.execute_reply": "2022-05-26T15:28:05.967586Z",
     "shell.execute_reply.started": "2022-05-26T15:28:05.937648Z"
    }
   },
   "outputs": [],
   "source": [
    "medicines['Reason'] = medicines['Reason'].apply(lambda x:x.split())\n",
    "medicines['Description'] = medicines['Description'].apply(lambda x:x.split())"
   ]
  },
  {
   "cell_type": "code",
   "execution_count": 11,
   "metadata": {
    "execution": {
     "iopub.execute_input": "2022-05-26T15:28:11.782091Z",
     "iopub.status.busy": "2022-05-26T15:28:11.781739Z",
     "iopub.status.idle": "2022-05-26T15:28:11.919044Z",
     "shell.execute_reply": "2022-05-26T15:28:11.918271Z",
     "shell.execute_reply.started": "2022-05-26T15:28:11.782064Z"
    }
   },
   "outputs": [],
   "source": [
    "medicines['Description'] = medicines['Description'].apply(lambda x:[i.replace(\" \",\"\") for i in x])"
   ]
  },
  {
   "cell_type": "code",
   "execution_count": 12,
   "metadata": {
    "execution": {
     "iopub.execute_input": "2022-05-26T15:28:17.590729Z",
     "iopub.status.busy": "2022-05-26T15:28:17.590328Z",
     "iopub.status.idle": "2022-05-26T15:28:17.626568Z",
     "shell.execute_reply": "2022-05-26T15:28:17.625869Z",
     "shell.execute_reply.started": "2022-05-26T15:28:17.590696Z"
    }
   },
   "outputs": [],
   "source": [
    "medicines['Description'] = medicines['Description'].apply(lambda x:[i.replace(\" \",\"\") for i in x])"
   ]
  },
  {
   "cell_type": "code",
   "execution_count": 13,
   "metadata": {
    "execution": {
     "iopub.execute_input": "2022-05-26T15:28:23.480397Z",
     "iopub.status.busy": "2022-05-26T15:28:23.479888Z",
     "iopub.status.idle": "2022-05-26T15:28:23.492088Z",
     "shell.execute_reply": "2022-05-26T15:28:23.491297Z",
     "shell.execute_reply.started": "2022-05-26T15:28:23.480365Z"
    }
   },
   "outputs": [],
   "source": [
    "medicines['tags'] = medicines['Description'] + medicines['Reason'] "
   ]
  },
  {
   "cell_type": "code",
   "execution_count": 14,
   "metadata": {
    "execution": {
     "iopub.execute_input": "2022-05-26T15:28:29.352803Z",
     "iopub.status.busy": "2022-05-26T15:28:29.352375Z",
     "iopub.status.idle": "2022-05-26T15:28:29.360610Z",
     "shell.execute_reply": "2022-05-26T15:28:29.359860Z",
     "shell.execute_reply.started": "2022-05-26T15:28:29.352771Z"
    }
   },
   "outputs": [],
   "source": [
    "new_df = medicines[['index','Drug_Name','tags']]"
   ]
  },
  {
   "cell_type": "code",
   "execution_count": 15,
   "metadata": {
    "execution": {
     "iopub.execute_input": "2022-05-26T15:28:34.878349Z",
     "iopub.status.busy": "2022-05-26T15:28:34.877949Z",
     "iopub.status.idle": "2022-05-26T15:28:34.895458Z",
     "shell.execute_reply": "2022-05-26T15:28:34.894661Z",
     "shell.execute_reply.started": "2022-05-26T15:28:34.878317Z"
    }
   },
   "outputs": [
    {
     "data": {
      "text/html": [
       "<div>\n",
       "<style scoped>\n",
       "    .dataframe tbody tr th:only-of-type {\n",
       "        vertical-align: middle;\n",
       "    }\n",
       "\n",
       "    .dataframe tbody tr th {\n",
       "        vertical-align: top;\n",
       "    }\n",
       "\n",
       "    .dataframe thead th {\n",
       "        text-align: right;\n",
       "    }\n",
       "</style>\n",
       "<table border=\"1\" class=\"dataframe\">\n",
       "  <thead>\n",
       "    <tr style=\"text-align: right;\">\n",
       "      <th></th>\n",
       "      <th>index</th>\n",
       "      <th>Drug_Name</th>\n",
       "      <th>tags</th>\n",
       "    </tr>\n",
       "  </thead>\n",
       "  <tbody>\n",
       "    <tr>\n",
       "      <th>0</th>\n",
       "      <td>1</td>\n",
       "      <td>A CN Gel(Topical) 20gmA CN Soap 75gm</td>\n",
       "      <td>[Mild, to, moderate, acne, (spots), Acne]</td>\n",
       "    </tr>\n",
       "    <tr>\n",
       "      <th>1</th>\n",
       "      <td>2</td>\n",
       "      <td>A Ret 0.05% Gel 20gmA Ret 0.1% Gel 20gmA Ret 0...</td>\n",
       "      <td>[A, RET, 0.025%, is, a, prescription, medicine...</td>\n",
       "    </tr>\n",
       "    <tr>\n",
       "      <th>2</th>\n",
       "      <td>3</td>\n",
       "      <td>ACGEL CL NANO Gel 15gm</td>\n",
       "      <td>[It, is, used, to, treat, acne, vulgaris, in, ...</td>\n",
       "    </tr>\n",
       "    <tr>\n",
       "      <th>3</th>\n",
       "      <td>4</td>\n",
       "      <td>ACGEL NANO Gel 15gm</td>\n",
       "      <td>[It, is, used, to, treat, acne, vulgaris, in, ...</td>\n",
       "    </tr>\n",
       "    <tr>\n",
       "      <th>4</th>\n",
       "      <td>5</td>\n",
       "      <td>Acleen 1% Lotion 25ml</td>\n",
       "      <td>[treat, the, most, severe, form, of, acne, (no...</td>\n",
       "    </tr>\n",
       "    <tr>\n",
       "      <th>...</th>\n",
       "      <td>...</td>\n",
       "      <td>...</td>\n",
       "      <td>...</td>\n",
       "    </tr>\n",
       "    <tr>\n",
       "      <th>9715</th>\n",
       "      <td>9716</td>\n",
       "      <td>T Muce Ointment 5gm</td>\n",
       "      <td>[used, for, treating, warts, Wound]</td>\n",
       "    </tr>\n",
       "    <tr>\n",
       "      <th>9716</th>\n",
       "      <td>9717</td>\n",
       "      <td>Wokadine 10% Solution 100mlWokadine Solution 5...</td>\n",
       "      <td>[used, to, soften, the, skin, cells, Wound]</td>\n",
       "    </tr>\n",
       "    <tr>\n",
       "      <th>9717</th>\n",
       "      <td>9718</td>\n",
       "      <td>Wokadine M Onit 10gm</td>\n",
       "      <td>[used, for, scars, Wound]</td>\n",
       "    </tr>\n",
       "    <tr>\n",
       "      <th>9718</th>\n",
       "      <td>9719</td>\n",
       "      <td>Wound Fix Solution 100ml</td>\n",
       "      <td>[used, for, wounds, Wound]</td>\n",
       "    </tr>\n",
       "    <tr>\n",
       "      <th>9719</th>\n",
       "      <td>9720</td>\n",
       "      <td>Wounsol Ointment 15gm</td>\n",
       "      <td>[used, to, treat, and, remove, raised, warts, ...</td>\n",
       "    </tr>\n",
       "  </tbody>\n",
       "</table>\n",
       "<p>9720 rows × 3 columns</p>\n",
       "</div>"
      ],
      "text/plain": [
       "      index                                          Drug_Name  \\\n",
       "0         1               A CN Gel(Topical) 20gmA CN Soap 75gm   \n",
       "1         2  A Ret 0.05% Gel 20gmA Ret 0.1% Gel 20gmA Ret 0...   \n",
       "2         3                             ACGEL CL NANO Gel 15gm   \n",
       "3         4                                ACGEL NANO Gel 15gm   \n",
       "4         5                              Acleen 1% Lotion 25ml   \n",
       "...     ...                                                ...   \n",
       "9715   9716                                T Muce Ointment 5gm   \n",
       "9716   9717  Wokadine 10% Solution 100mlWokadine Solution 5...   \n",
       "9717   9718                               Wokadine M Onit 10gm   \n",
       "9718   9719                           Wound Fix Solution 100ml   \n",
       "9719   9720                              Wounsol Ointment 15gm   \n",
       "\n",
       "                                                   tags  \n",
       "0             [Mild, to, moderate, acne, (spots), Acne]  \n",
       "1     [A, RET, 0.025%, is, a, prescription, medicine...  \n",
       "2     [It, is, used, to, treat, acne, vulgaris, in, ...  \n",
       "3     [It, is, used, to, treat, acne, vulgaris, in, ...  \n",
       "4     [treat, the, most, severe, form, of, acne, (no...  \n",
       "...                                                 ...  \n",
       "9715                [used, for, treating, warts, Wound]  \n",
       "9716        [used, to, soften, the, skin, cells, Wound]  \n",
       "9717                          [used, for, scars, Wound]  \n",
       "9718                         [used, for, wounds, Wound]  \n",
       "9719  [used, to, treat, and, remove, raised, warts, ...  \n",
       "\n",
       "[9720 rows x 3 columns]"
      ]
     },
     "execution_count": 15,
     "metadata": {},
     "output_type": "execute_result"
    }
   ],
   "source": [
    "new_df"
   ]
  },
  {
   "cell_type": "code",
   "execution_count": 16,
   "metadata": {
    "execution": {
     "iopub.execute_input": "2022-05-26T15:28:40.536622Z",
     "iopub.status.busy": "2022-05-26T15:28:40.536242Z",
     "iopub.status.idle": "2022-05-26T15:28:40.555686Z",
     "shell.execute_reply": "2022-05-26T15:28:40.554737Z",
     "shell.execute_reply.started": "2022-05-26T15:28:40.536592Z"
    }
   },
   "outputs": [
    {
     "data": {
      "text/plain": [
       "0                      Mild to moderate acne (spots) Acne\n",
       "1       A RET 0.025% is a prescription medicine that i...\n",
       "2       It is used to treat acne vulgaris in people 12...\n",
       "3       It is used to treat acne vulgaris in people 12...\n",
       "4       treat the most severe form of acne (nodular ac...\n",
       "                              ...                        \n",
       "9715                        used for treating warts Wound\n",
       "9716                  used to soften the skin cells Wound\n",
       "9717                                 used for scars Wound\n",
       "9718                                used for wounds Wound\n",
       "9719    used to treat and remove raised warts (usually...\n",
       "Name: tags, Length: 9720, dtype: object"
      ]
     },
     "execution_count": 16,
     "metadata": {},
     "output_type": "execute_result"
    }
   ],
   "source": [
    "new_df['tags'].apply(lambda x:\" \".join(x))"
   ]
  },
  {
   "cell_type": "code",
   "execution_count": 17,
   "metadata": {
    "execution": {
     "iopub.execute_input": "2022-05-26T15:28:45.841708Z",
     "iopub.status.busy": "2022-05-26T15:28:45.841331Z",
     "iopub.status.idle": "2022-05-26T15:28:45.860869Z",
     "shell.execute_reply": "2022-05-26T15:28:45.859984Z",
     "shell.execute_reply.started": "2022-05-26T15:28:45.841677Z"
    }
   },
   "outputs": [
    {
     "data": {
      "text/html": [
       "<div>\n",
       "<style scoped>\n",
       "    .dataframe tbody tr th:only-of-type {\n",
       "        vertical-align: middle;\n",
       "    }\n",
       "\n",
       "    .dataframe tbody tr th {\n",
       "        vertical-align: top;\n",
       "    }\n",
       "\n",
       "    .dataframe thead th {\n",
       "        text-align: right;\n",
       "    }\n",
       "</style>\n",
       "<table border=\"1\" class=\"dataframe\">\n",
       "  <thead>\n",
       "    <tr style=\"text-align: right;\">\n",
       "      <th></th>\n",
       "      <th>index</th>\n",
       "      <th>Drug_Name</th>\n",
       "      <th>tags</th>\n",
       "    </tr>\n",
       "  </thead>\n",
       "  <tbody>\n",
       "    <tr>\n",
       "      <th>0</th>\n",
       "      <td>1</td>\n",
       "      <td>A CN Gel(Topical) 20gmA CN Soap 75gm</td>\n",
       "      <td>[Mild, to, moderate, acne, (spots), Acne]</td>\n",
       "    </tr>\n",
       "    <tr>\n",
       "      <th>1</th>\n",
       "      <td>2</td>\n",
       "      <td>A Ret 0.05% Gel 20gmA Ret 0.1% Gel 20gmA Ret 0...</td>\n",
       "      <td>[A, RET, 0.025%, is, a, prescription, medicine...</td>\n",
       "    </tr>\n",
       "    <tr>\n",
       "      <th>2</th>\n",
       "      <td>3</td>\n",
       "      <td>ACGEL CL NANO Gel 15gm</td>\n",
       "      <td>[It, is, used, to, treat, acne, vulgaris, in, ...</td>\n",
       "    </tr>\n",
       "    <tr>\n",
       "      <th>3</th>\n",
       "      <td>4</td>\n",
       "      <td>ACGEL NANO Gel 15gm</td>\n",
       "      <td>[It, is, used, to, treat, acne, vulgaris, in, ...</td>\n",
       "    </tr>\n",
       "    <tr>\n",
       "      <th>4</th>\n",
       "      <td>5</td>\n",
       "      <td>Acleen 1% Lotion 25ml</td>\n",
       "      <td>[treat, the, most, severe, form, of, acne, (no...</td>\n",
       "    </tr>\n",
       "    <tr>\n",
       "      <th>...</th>\n",
       "      <td>...</td>\n",
       "      <td>...</td>\n",
       "      <td>...</td>\n",
       "    </tr>\n",
       "    <tr>\n",
       "      <th>9715</th>\n",
       "      <td>9716</td>\n",
       "      <td>T Muce Ointment 5gm</td>\n",
       "      <td>[used, for, treating, warts, Wound]</td>\n",
       "    </tr>\n",
       "    <tr>\n",
       "      <th>9716</th>\n",
       "      <td>9717</td>\n",
       "      <td>Wokadine 10% Solution 100mlWokadine Solution 5...</td>\n",
       "      <td>[used, to, soften, the, skin, cells, Wound]</td>\n",
       "    </tr>\n",
       "    <tr>\n",
       "      <th>9717</th>\n",
       "      <td>9718</td>\n",
       "      <td>Wokadine M Onit 10gm</td>\n",
       "      <td>[used, for, scars, Wound]</td>\n",
       "    </tr>\n",
       "    <tr>\n",
       "      <th>9718</th>\n",
       "      <td>9719</td>\n",
       "      <td>Wound Fix Solution 100ml</td>\n",
       "      <td>[used, for, wounds, Wound]</td>\n",
       "    </tr>\n",
       "    <tr>\n",
       "      <th>9719</th>\n",
       "      <td>9720</td>\n",
       "      <td>Wounsol Ointment 15gm</td>\n",
       "      <td>[used, to, treat, and, remove, raised, warts, ...</td>\n",
       "    </tr>\n",
       "  </tbody>\n",
       "</table>\n",
       "<p>9720 rows × 3 columns</p>\n",
       "</div>"
      ],
      "text/plain": [
       "      index                                          Drug_Name  \\\n",
       "0         1               A CN Gel(Topical) 20gmA CN Soap 75gm   \n",
       "1         2  A Ret 0.05% Gel 20gmA Ret 0.1% Gel 20gmA Ret 0...   \n",
       "2         3                             ACGEL CL NANO Gel 15gm   \n",
       "3         4                                ACGEL NANO Gel 15gm   \n",
       "4         5                              Acleen 1% Lotion 25ml   \n",
       "...     ...                                                ...   \n",
       "9715   9716                                T Muce Ointment 5gm   \n",
       "9716   9717  Wokadine 10% Solution 100mlWokadine Solution 5...   \n",
       "9717   9718                               Wokadine M Onit 10gm   \n",
       "9718   9719                           Wound Fix Solution 100ml   \n",
       "9719   9720                              Wounsol Ointment 15gm   \n",
       "\n",
       "                                                   tags  \n",
       "0             [Mild, to, moderate, acne, (spots), Acne]  \n",
       "1     [A, RET, 0.025%, is, a, prescription, medicine...  \n",
       "2     [It, is, used, to, treat, acne, vulgaris, in, ...  \n",
       "3     [It, is, used, to, treat, acne, vulgaris, in, ...  \n",
       "4     [treat, the, most, severe, form, of, acne, (no...  \n",
       "...                                                 ...  \n",
       "9715                [used, for, treating, warts, Wound]  \n",
       "9716        [used, to, soften, the, skin, cells, Wound]  \n",
       "9717                          [used, for, scars, Wound]  \n",
       "9718                         [used, for, wounds, Wound]  \n",
       "9719  [used, to, treat, and, remove, raised, warts, ...  \n",
       "\n",
       "[9720 rows x 3 columns]"
      ]
     },
     "execution_count": 17,
     "metadata": {},
     "output_type": "execute_result"
    }
   ],
   "source": [
    "new_df"
   ]
  },
  {
   "cell_type": "code",
   "execution_count": 18,
   "metadata": {
    "execution": {
     "iopub.execute_input": "2022-05-26T15:28:53.401750Z",
     "iopub.status.busy": "2022-05-26T15:28:53.401240Z",
     "iopub.status.idle": "2022-05-26T15:28:53.416558Z",
     "shell.execute_reply": "2022-05-26T15:28:53.415509Z",
     "shell.execute_reply.started": "2022-05-26T15:28:53.401710Z"
    }
   },
   "outputs": [
    {
     "name": "stderr",
     "output_type": "stream",
     "text": [
      "C:\\Users\\91772\\AppData\\Local\\Temp/ipykernel_12536/3089450492.py:1: SettingWithCopyWarning: \n",
      "A value is trying to be set on a copy of a slice from a DataFrame.\n",
      "Try using .loc[row_indexer,col_indexer] = value instead\n",
      "\n",
      "See the caveats in the documentation: https://pandas.pydata.org/pandas-docs/stable/user_guide/indexing.html#returning-a-view-versus-a-copy\n",
      "  new_df['tags'] = new_df['tags'].apply(lambda x:\" \".join(x))\n"
     ]
    }
   ],
   "source": [
    "new_df['tags'] = new_df['tags'].apply(lambda x:\" \".join(x))"
   ]
  },
  {
   "cell_type": "code",
   "execution_count": 19,
   "metadata": {
    "execution": {
     "iopub.execute_input": "2022-05-26T15:28:59.343874Z",
     "iopub.status.busy": "2022-05-26T15:28:59.343330Z",
     "iopub.status.idle": "2022-05-26T15:28:59.357037Z",
     "shell.execute_reply": "2022-05-26T15:28:59.356307Z",
     "shell.execute_reply.started": "2022-05-26T15:28:59.343830Z"
    }
   },
   "outputs": [
    {
     "data": {
      "text/html": [
       "<div>\n",
       "<style scoped>\n",
       "    .dataframe tbody tr th:only-of-type {\n",
       "        vertical-align: middle;\n",
       "    }\n",
       "\n",
       "    .dataframe tbody tr th {\n",
       "        vertical-align: top;\n",
       "    }\n",
       "\n",
       "    .dataframe thead th {\n",
       "        text-align: right;\n",
       "    }\n",
       "</style>\n",
       "<table border=\"1\" class=\"dataframe\">\n",
       "  <thead>\n",
       "    <tr style=\"text-align: right;\">\n",
       "      <th></th>\n",
       "      <th>index</th>\n",
       "      <th>Drug_Name</th>\n",
       "      <th>tags</th>\n",
       "    </tr>\n",
       "  </thead>\n",
       "  <tbody>\n",
       "    <tr>\n",
       "      <th>0</th>\n",
       "      <td>1</td>\n",
       "      <td>A CN Gel(Topical) 20gmA CN Soap 75gm</td>\n",
       "      <td>Mild to moderate acne (spots) Acne</td>\n",
       "    </tr>\n",
       "    <tr>\n",
       "      <th>1</th>\n",
       "      <td>2</td>\n",
       "      <td>A Ret 0.05% Gel 20gmA Ret 0.1% Gel 20gmA Ret 0...</td>\n",
       "      <td>A RET 0.025% is a prescription medicine that i...</td>\n",
       "    </tr>\n",
       "    <tr>\n",
       "      <th>2</th>\n",
       "      <td>3</td>\n",
       "      <td>ACGEL CL NANO Gel 15gm</td>\n",
       "      <td>It is used to treat acne vulgaris in people 12...</td>\n",
       "    </tr>\n",
       "    <tr>\n",
       "      <th>3</th>\n",
       "      <td>4</td>\n",
       "      <td>ACGEL NANO Gel 15gm</td>\n",
       "      <td>It is used to treat acne vulgaris in people 12...</td>\n",
       "    </tr>\n",
       "    <tr>\n",
       "      <th>4</th>\n",
       "      <td>5</td>\n",
       "      <td>Acleen 1% Lotion 25ml</td>\n",
       "      <td>treat the most severe form of acne (nodular ac...</td>\n",
       "    </tr>\n",
       "    <tr>\n",
       "      <th>...</th>\n",
       "      <td>...</td>\n",
       "      <td>...</td>\n",
       "      <td>...</td>\n",
       "    </tr>\n",
       "    <tr>\n",
       "      <th>9715</th>\n",
       "      <td>9716</td>\n",
       "      <td>T Muce Ointment 5gm</td>\n",
       "      <td>used for treating warts Wound</td>\n",
       "    </tr>\n",
       "    <tr>\n",
       "      <th>9716</th>\n",
       "      <td>9717</td>\n",
       "      <td>Wokadine 10% Solution 100mlWokadine Solution 5...</td>\n",
       "      <td>used to soften the skin cells Wound</td>\n",
       "    </tr>\n",
       "    <tr>\n",
       "      <th>9717</th>\n",
       "      <td>9718</td>\n",
       "      <td>Wokadine M Onit 10gm</td>\n",
       "      <td>used for scars Wound</td>\n",
       "    </tr>\n",
       "    <tr>\n",
       "      <th>9718</th>\n",
       "      <td>9719</td>\n",
       "      <td>Wound Fix Solution 100ml</td>\n",
       "      <td>used for wounds Wound</td>\n",
       "    </tr>\n",
       "    <tr>\n",
       "      <th>9719</th>\n",
       "      <td>9720</td>\n",
       "      <td>Wounsol Ointment 15gm</td>\n",
       "      <td>used to treat and remove raised warts (usually...</td>\n",
       "    </tr>\n",
       "  </tbody>\n",
       "</table>\n",
       "<p>9720 rows × 3 columns</p>\n",
       "</div>"
      ],
      "text/plain": [
       "      index                                          Drug_Name  \\\n",
       "0         1               A CN Gel(Topical) 20gmA CN Soap 75gm   \n",
       "1         2  A Ret 0.05% Gel 20gmA Ret 0.1% Gel 20gmA Ret 0...   \n",
       "2         3                             ACGEL CL NANO Gel 15gm   \n",
       "3         4                                ACGEL NANO Gel 15gm   \n",
       "4         5                              Acleen 1% Lotion 25ml   \n",
       "...     ...                                                ...   \n",
       "9715   9716                                T Muce Ointment 5gm   \n",
       "9716   9717  Wokadine 10% Solution 100mlWokadine Solution 5...   \n",
       "9717   9718                               Wokadine M Onit 10gm   \n",
       "9718   9719                           Wound Fix Solution 100ml   \n",
       "9719   9720                              Wounsol Ointment 15gm   \n",
       "\n",
       "                                                   tags  \n",
       "0                    Mild to moderate acne (spots) Acne  \n",
       "1     A RET 0.025% is a prescription medicine that i...  \n",
       "2     It is used to treat acne vulgaris in people 12...  \n",
       "3     It is used to treat acne vulgaris in people 12...  \n",
       "4     treat the most severe form of acne (nodular ac...  \n",
       "...                                                 ...  \n",
       "9715                      used for treating warts Wound  \n",
       "9716                used to soften the skin cells Wound  \n",
       "9717                               used for scars Wound  \n",
       "9718                              used for wounds Wound  \n",
       "9719  used to treat and remove raised warts (usually...  \n",
       "\n",
       "[9720 rows x 3 columns]"
      ]
     },
     "execution_count": 19,
     "metadata": {},
     "output_type": "execute_result"
    }
   ],
   "source": [
    "new_df"
   ]
  },
  {
   "cell_type": "code",
   "execution_count": 20,
   "metadata": {
    "execution": {
     "iopub.execute_input": "2022-05-26T15:29:03.967503Z",
     "iopub.status.busy": "2022-05-26T15:29:03.967097Z",
     "iopub.status.idle": "2022-05-26T15:29:03.980230Z",
     "shell.execute_reply": "2022-05-26T15:29:03.979538Z",
     "shell.execute_reply.started": "2022-05-26T15:29:03.967459Z"
    }
   },
   "outputs": [
    {
     "name": "stderr",
     "output_type": "stream",
     "text": [
      "C:\\Users\\91772\\AppData\\Local\\Temp/ipykernel_12536/3214958533.py:1: SettingWithCopyWarning: \n",
      "A value is trying to be set on a copy of a slice from a DataFrame.\n",
      "Try using .loc[row_indexer,col_indexer] = value instead\n",
      "\n",
      "See the caveats in the documentation: https://pandas.pydata.org/pandas-docs/stable/user_guide/indexing.html#returning-a-view-versus-a-copy\n",
      "  new_df['tags'] = new_df['tags'].apply(lambda x:x.lower())\n"
     ]
    }
   ],
   "source": [
    "new_df['tags'] = new_df['tags'].apply(lambda x:x.lower())"
   ]
  },
  {
   "cell_type": "code",
   "execution_count": 21,
   "metadata": {
    "execution": {
     "iopub.execute_input": "2022-05-26T15:29:09.900261Z",
     "iopub.status.busy": "2022-05-26T15:29:09.899763Z",
     "iopub.status.idle": "2022-05-26T15:29:09.913513Z",
     "shell.execute_reply": "2022-05-26T15:29:09.912614Z",
     "shell.execute_reply.started": "2022-05-26T15:29:09.900231Z"
    }
   },
   "outputs": [
    {
     "data": {
      "text/html": [
       "<div>\n",
       "<style scoped>\n",
       "    .dataframe tbody tr th:only-of-type {\n",
       "        vertical-align: middle;\n",
       "    }\n",
       "\n",
       "    .dataframe tbody tr th {\n",
       "        vertical-align: top;\n",
       "    }\n",
       "\n",
       "    .dataframe thead th {\n",
       "        text-align: right;\n",
       "    }\n",
       "</style>\n",
       "<table border=\"1\" class=\"dataframe\">\n",
       "  <thead>\n",
       "    <tr style=\"text-align: right;\">\n",
       "      <th></th>\n",
       "      <th>index</th>\n",
       "      <th>Drug_Name</th>\n",
       "      <th>tags</th>\n",
       "    </tr>\n",
       "  </thead>\n",
       "  <tbody>\n",
       "    <tr>\n",
       "      <th>0</th>\n",
       "      <td>1</td>\n",
       "      <td>A CN Gel(Topical) 20gmA CN Soap 75gm</td>\n",
       "      <td>mild to moderate acne (spots) acne</td>\n",
       "    </tr>\n",
       "    <tr>\n",
       "      <th>1</th>\n",
       "      <td>2</td>\n",
       "      <td>A Ret 0.05% Gel 20gmA Ret 0.1% Gel 20gmA Ret 0...</td>\n",
       "      <td>a ret 0.025% is a prescription medicine that i...</td>\n",
       "    </tr>\n",
       "    <tr>\n",
       "      <th>2</th>\n",
       "      <td>3</td>\n",
       "      <td>ACGEL CL NANO Gel 15gm</td>\n",
       "      <td>it is used to treat acne vulgaris in people 12...</td>\n",
       "    </tr>\n",
       "    <tr>\n",
       "      <th>3</th>\n",
       "      <td>4</td>\n",
       "      <td>ACGEL NANO Gel 15gm</td>\n",
       "      <td>it is used to treat acne vulgaris in people 12...</td>\n",
       "    </tr>\n",
       "    <tr>\n",
       "      <th>4</th>\n",
       "      <td>5</td>\n",
       "      <td>Acleen 1% Lotion 25ml</td>\n",
       "      <td>treat the most severe form of acne (nodular ac...</td>\n",
       "    </tr>\n",
       "    <tr>\n",
       "      <th>...</th>\n",
       "      <td>...</td>\n",
       "      <td>...</td>\n",
       "      <td>...</td>\n",
       "    </tr>\n",
       "    <tr>\n",
       "      <th>9715</th>\n",
       "      <td>9716</td>\n",
       "      <td>T Muce Ointment 5gm</td>\n",
       "      <td>used for treating warts wound</td>\n",
       "    </tr>\n",
       "    <tr>\n",
       "      <th>9716</th>\n",
       "      <td>9717</td>\n",
       "      <td>Wokadine 10% Solution 100mlWokadine Solution 5...</td>\n",
       "      <td>used to soften the skin cells wound</td>\n",
       "    </tr>\n",
       "    <tr>\n",
       "      <th>9717</th>\n",
       "      <td>9718</td>\n",
       "      <td>Wokadine M Onit 10gm</td>\n",
       "      <td>used for scars wound</td>\n",
       "    </tr>\n",
       "    <tr>\n",
       "      <th>9718</th>\n",
       "      <td>9719</td>\n",
       "      <td>Wound Fix Solution 100ml</td>\n",
       "      <td>used for wounds wound</td>\n",
       "    </tr>\n",
       "    <tr>\n",
       "      <th>9719</th>\n",
       "      <td>9720</td>\n",
       "      <td>Wounsol Ointment 15gm</td>\n",
       "      <td>used to treat and remove raised warts (usually...</td>\n",
       "    </tr>\n",
       "  </tbody>\n",
       "</table>\n",
       "<p>9720 rows × 3 columns</p>\n",
       "</div>"
      ],
      "text/plain": [
       "      index                                          Drug_Name  \\\n",
       "0         1               A CN Gel(Topical) 20gmA CN Soap 75gm   \n",
       "1         2  A Ret 0.05% Gel 20gmA Ret 0.1% Gel 20gmA Ret 0...   \n",
       "2         3                             ACGEL CL NANO Gel 15gm   \n",
       "3         4                                ACGEL NANO Gel 15gm   \n",
       "4         5                              Acleen 1% Lotion 25ml   \n",
       "...     ...                                                ...   \n",
       "9715   9716                                T Muce Ointment 5gm   \n",
       "9716   9717  Wokadine 10% Solution 100mlWokadine Solution 5...   \n",
       "9717   9718                               Wokadine M Onit 10gm   \n",
       "9718   9719                           Wound Fix Solution 100ml   \n",
       "9719   9720                              Wounsol Ointment 15gm   \n",
       "\n",
       "                                                   tags  \n",
       "0                    mild to moderate acne (spots) acne  \n",
       "1     a ret 0.025% is a prescription medicine that i...  \n",
       "2     it is used to treat acne vulgaris in people 12...  \n",
       "3     it is used to treat acne vulgaris in people 12...  \n",
       "4     treat the most severe form of acne (nodular ac...  \n",
       "...                                                 ...  \n",
       "9715                      used for treating warts wound  \n",
       "9716                used to soften the skin cells wound  \n",
       "9717                               used for scars wound  \n",
       "9718                              used for wounds wound  \n",
       "9719  used to treat and remove raised warts (usually...  \n",
       "\n",
       "[9720 rows x 3 columns]"
      ]
     },
     "execution_count": 21,
     "metadata": {},
     "output_type": "execute_result"
    }
   ],
   "source": [
    "new_df"
   ]
  },
  {
   "cell_type": "code",
   "execution_count": 22,
   "metadata": {
    "execution": {
     "iopub.execute_input": "2022-05-26T15:29:15.034557Z",
     "iopub.status.busy": "2022-05-26T15:29:15.033480Z",
     "iopub.status.idle": "2022-05-26T15:29:32.260361Z",
     "shell.execute_reply": "2022-05-26T15:29:32.259461Z",
     "shell.execute_reply.started": "2022-05-26T15:29:15.034474Z"
    }
   },
   "outputs": [
    {
     "name": "stdout",
     "output_type": "stream",
     "text": [
      "Requirement already satisfied: nltk in c:\\programdata\\anaconda3\\lib\\site-packages (3.6.5)\n",
      "Requirement already satisfied: click in c:\\programdata\\anaconda3\\lib\\site-packages (from nltk) (8.0.3)\n",
      "Requirement already satisfied: joblib in c:\\programdata\\anaconda3\\lib\\site-packages (from nltk) (1.1.0)\n",
      "Requirement already satisfied: regex>=2021.8.3 in c:\\programdata\\anaconda3\\lib\\site-packages (from nltk) (2021.8.3)\n",
      "Requirement already satisfied: tqdm in c:\\programdata\\anaconda3\\lib\\site-packages (from nltk) (4.62.3)\n",
      "Requirement already satisfied: colorama in c:\\programdata\\anaconda3\\lib\\site-packages (from click->nltk) (0.4.4)\n"
     ]
    }
   ],
   "source": [
    "!pip install nltk"
   ]
  },
  {
   "cell_type": "code",
   "execution_count": 23,
   "metadata": {
    "execution": {
     "iopub.execute_input": "2022-05-26T15:29:32.262390Z",
     "iopub.status.busy": "2022-05-26T15:29:32.262070Z",
     "iopub.status.idle": "2022-05-26T15:29:33.396808Z",
     "shell.execute_reply": "2022-05-26T15:29:33.395776Z",
     "shell.execute_reply.started": "2022-05-26T15:29:32.262358Z"
    }
   },
   "outputs": [],
   "source": [
    "import nltk"
   ]
  },
  {
   "cell_type": "code",
   "execution_count": 24,
   "metadata": {
    "execution": {
     "iopub.execute_input": "2022-05-26T15:29:44.930999Z",
     "iopub.status.busy": "2022-05-26T15:29:44.930510Z",
     "iopub.status.idle": "2022-05-26T15:29:44.935856Z",
     "shell.execute_reply": "2022-05-26T15:29:44.934888Z",
     "shell.execute_reply.started": "2022-05-26T15:29:44.930950Z"
    }
   },
   "outputs": [],
   "source": [
    "from nltk.stem.porter import PorterStemmer\n",
    "ps = PorterStemmer()"
   ]
  },
  {
   "cell_type": "code",
   "execution_count": 25,
   "metadata": {
    "execution": {
     "iopub.execute_input": "2022-05-26T15:29:57.554659Z",
     "iopub.status.busy": "2022-05-26T15:29:57.554233Z",
     "iopub.status.idle": "2022-05-26T15:30:14.886756Z",
     "shell.execute_reply": "2022-05-26T15:30:14.885564Z",
     "shell.execute_reply.started": "2022-05-26T15:29:57.554624Z"
    }
   },
   "outputs": [
    {
     "name": "stdout",
     "output_type": "stream",
     "text": [
      "Requirement already satisfied: scikit-learn in c:\\programdata\\anaconda3\\lib\\site-packages (0.24.2)\n",
      "Collecting scikit-learn\n",
      "  Downloading scikit_learn-1.2.2-cp39-cp39-win_amd64.whl (8.4 MB)\n",
      "Requirement already satisfied: scipy in c:\\programdata\\anaconda3\\lib\\site-packages (1.7.1)\n",
      "Collecting scipy\n",
      "  Downloading scipy-1.10.1-cp39-cp39-win_amd64.whl (42.5 MB)\n",
      "Requirement already satisfied: matplotlib in c:\\programdata\\anaconda3\\lib\\site-packages (3.4.3)\n",
      "Collecting matplotlib\n",
      "  Downloading matplotlib-3.7.1-cp39-cp39-win_amd64.whl (7.6 MB)\n",
      "Collecting joblib>=1.1.1\n",
      "  Downloading joblib-1.2.0-py3-none-any.whl (297 kB)\n",
      "Requirement already satisfied: threadpoolctl>=2.0.0 in c:\\programdata\\anaconda3\\lib\\site-packages (from scikit-learn) (2.2.0)\n",
      "Requirement already satisfied: numpy>=1.17.3 in c:\\programdata\\anaconda3\\lib\\site-packages (from scikit-learn) (1.20.3)\n",
      "Collecting contourpy>=1.0.1\n",
      "  Downloading contourpy-1.0.7-cp39-cp39-win_amd64.whl (160 kB)\n",
      "Requirement already satisfied: fonttools>=4.22.0 in c:\\programdata\\anaconda3\\lib\\site-packages (from matplotlib) (4.25.0)\n",
      "Collecting importlib-resources>=3.2.0\n",
      "  Downloading importlib_resources-5.12.0-py3-none-any.whl (36 kB)\n",
      "Requirement already satisfied: python-dateutil>=2.7 in c:\\programdata\\anaconda3\\lib\\site-packages (from matplotlib) (2.8.2)\n",
      "Requirement already satisfied: pyparsing>=2.3.1 in c:\\programdata\\anaconda3\\lib\\site-packages (from matplotlib) (3.0.4)\n",
      "Requirement already satisfied: kiwisolver>=1.0.1 in c:\\programdata\\anaconda3\\lib\\site-packages (from matplotlib) (1.3.1)\n",
      "Requirement already satisfied: packaging>=20.0 in c:\\programdata\\anaconda3\\lib\\site-packages (from matplotlib) (21.0)\n",
      "Requirement already satisfied: cycler>=0.10 in c:\\programdata\\anaconda3\\lib\\site-packages (from matplotlib) (0.10.0)\n",
      "Requirement already satisfied: pillow>=6.2.0 in c:\\programdata\\anaconda3\\lib\\site-packages (from matplotlib) (8.4.0)\n",
      "Requirement already satisfied: six in c:\\programdata\\anaconda3\\lib\\site-packages (from cycler>=0.10->matplotlib) (1.16.0)\n",
      "Requirement already satisfied: zipp>=3.1.0 in c:\\programdata\\anaconda3\\lib\\site-packages (from importlib-resources>=3.2.0->matplotlib) (3.6.0)\n",
      "Installing collected packages: scipy, joblib, importlib-resources, contourpy, scikit-learn, matplotlib\n",
      "  Attempting uninstall: scipy\n",
      "    Found existing installation: scipy 1.7.1\n",
      "    Uninstalling scipy-1.7.1:\n"
     ]
    },
    {
     "name": "stderr",
     "output_type": "stream",
     "text": [
      "ERROR: Could not install packages due to an OSError: [WinError 5] Access is denied: 'c:\\\\programdata\\\\anaconda3\\\\lib\\\\site-packages\\\\scipy-1.7.1.dist-info\\\\direct_url.json'\n",
      "Consider using the `--user` option or check the permissions.\n",
      "\n"
     ]
    }
   ],
   "source": [
    "!pip install -U scikit-learn scipy matplotlib"
   ]
  },
  {
   "cell_type": "code",
   "execution_count": 26,
   "metadata": {
    "execution": {
     "iopub.execute_input": "2022-05-26T15:30:19.262947Z",
     "iopub.status.busy": "2022-05-26T15:30:19.262540Z",
     "iopub.status.idle": "2022-05-26T15:30:19.267598Z",
     "shell.execute_reply": "2022-05-26T15:30:19.266709Z",
     "shell.execute_reply.started": "2022-05-26T15:30:19.262907Z"
    }
   },
   "outputs": [],
   "source": [
    "from sklearn.feature_extraction.text import CountVectorizer\n",
    "cv = CountVectorizer(stop_words='english',max_features=5000)"
   ]
  },
  {
   "cell_type": "code",
   "execution_count": 27,
   "metadata": {
    "execution": {
     "iopub.execute_input": "2022-05-26T15:30:34.110883Z",
     "iopub.status.busy": "2022-05-26T15:30:34.110440Z",
     "iopub.status.idle": "2022-05-26T15:30:34.115964Z",
     "shell.execute_reply": "2022-05-26T15:30:34.115054Z",
     "shell.execute_reply.started": "2022-05-26T15:30:34.110851Z"
    }
   },
   "outputs": [],
   "source": [
    "def stem(text):\n",
    "  y = []\n",
    "\n",
    "  for i in text.split():\n",
    "    y.append(ps.stem(i))\n",
    "\n",
    "  return \" \".join(y)  "
   ]
  },
  {
   "cell_type": "code",
   "execution_count": 28,
   "metadata": {
    "execution": {
     "iopub.execute_input": "2022-05-26T15:30:40.638132Z",
     "iopub.status.busy": "2022-05-26T15:30:40.637709Z",
     "iopub.status.idle": "2022-05-26T15:30:43.759883Z",
     "shell.execute_reply": "2022-05-26T15:30:43.758904Z",
     "shell.execute_reply.started": "2022-05-26T15:30:40.638098Z"
    }
   },
   "outputs": [
    {
     "name": "stderr",
     "output_type": "stream",
     "text": [
      "C:\\Users\\91772\\AppData\\Local\\Temp/ipykernel_12536/3213734980.py:1: SettingWithCopyWarning: \n",
      "A value is trying to be set on a copy of a slice from a DataFrame.\n",
      "Try using .loc[row_indexer,col_indexer] = value instead\n",
      "\n",
      "See the caveats in the documentation: https://pandas.pydata.org/pandas-docs/stable/user_guide/indexing.html#returning-a-view-versus-a-copy\n",
      "  new_df['tags'] = new_df['tags'].apply(stem)\n"
     ]
    }
   ],
   "source": [
    "new_df['tags'] = new_df['tags'].apply(stem)"
   ]
  },
  {
   "cell_type": "code",
   "execution_count": 29,
   "metadata": {
    "execution": {
     "iopub.execute_input": "2022-05-26T15:30:47.868994Z",
     "iopub.status.busy": "2022-05-26T15:30:47.868441Z",
     "iopub.status.idle": "2022-05-26T15:30:48.096978Z",
     "shell.execute_reply": "2022-05-26T15:30:48.096104Z",
     "shell.execute_reply.started": "2022-05-26T15:30:47.868951Z"
    }
   },
   "outputs": [
    {
     "data": {
      "text/plain": [
       "(9720, 806)"
      ]
     },
     "execution_count": 29,
     "metadata": {},
     "output_type": "execute_result"
    }
   ],
   "source": [
    "cv.fit_transform(new_df['tags']).toarray().shape"
   ]
  },
  {
   "cell_type": "code",
   "execution_count": 30,
   "metadata": {
    "execution": {
     "iopub.execute_input": "2022-05-26T15:30:54.495313Z",
     "iopub.status.busy": "2022-05-26T15:30:54.494898Z",
     "iopub.status.idle": "2022-05-26T15:30:54.713078Z",
     "shell.execute_reply": "2022-05-26T15:30:54.712369Z",
     "shell.execute_reply.started": "2022-05-26T15:30:54.495280Z"
    }
   },
   "outputs": [],
   "source": [
    "vectors = cv.fit_transform(new_df['tags']).toarray()"
   ]
  },
  {
   "cell_type": "code",
   "execution_count": 31,
   "metadata": {
    "execution": {
     "iopub.execute_input": "2022-05-26T15:30:59.893280Z",
     "iopub.status.busy": "2022-05-26T15:30:59.892872Z",
     "iopub.status.idle": "2022-05-26T15:30:59.916357Z",
     "shell.execute_reply": "2022-05-26T15:30:59.915644Z",
     "shell.execute_reply.started": "2022-05-26T15:30:59.893247Z"
    }
   },
   "outputs": [
    {
     "data": {
      "text/plain": [
       "['025',\n",
       " '12',\n",
       " '16',\n",
       " '18',\n",
       " 'abdomin',\n",
       " 'abl',\n",
       " 'ach',\n",
       " 'acid',\n",
       " 'acn',\n",
       " 'acne',\n",
       " 'acquir',\n",
       " 'action',\n",
       " 'activ',\n",
       " 'acut',\n",
       " 'acute',\n",
       " 'adequ',\n",
       " 'adhd',\n",
       " 'adjunct',\n",
       " 'adolesc',\n",
       " 'adult',\n",
       " 'adults',\n",
       " 'affect',\n",
       " 'ag',\n",
       " 'age',\n",
       " 'aids',\n",
       " 'allerg',\n",
       " 'allergen',\n",
       " 'allergi',\n",
       " 'allow',\n",
       " 'alon',\n",
       " 'alzheim',\n",
       " 'alzheimer',\n",
       " 'alzheimerâ',\n",
       " 'amoebiasi',\n",
       " 'anaemia',\n",
       " 'anal',\n",
       " 'angina',\n",
       " 'angl',\n",
       " 'ani',\n",
       " 'ankylos',\n",
       " 'anorexia',\n",
       " 'anoth',\n",
       " 'anti',\n",
       " 'antioxid',\n",
       " 'antipsychot',\n",
       " 'antiretrovir',\n",
       " 'anxieti',\n",
       " 'anxiou',\n",
       " 'anxious',\n",
       " 'apnoea',\n",
       " 'appear',\n",
       " 'appetit',\n",
       " 'appetite',\n",
       " 'appli',\n",
       " 'appropri',\n",
       " 'area',\n",
       " 'arrhythmia',\n",
       " 'arrhythmiasi',\n",
       " 'arteri',\n",
       " 'arthralgia',\n",
       " 'arthriti',\n",
       " 'associ',\n",
       " 'atherothrombot',\n",
       " 'athleteâ',\n",
       " 'atop',\n",
       " 'atrial',\n",
       " 'attack',\n",
       " 'awak',\n",
       " 'b1',\n",
       " 'b2',\n",
       " 'b3',\n",
       " 'b5',\n",
       " 'b6',\n",
       " 'babi',\n",
       " 'backache',\n",
       " 'bacteri',\n",
       " 'bacteria',\n",
       " 'balanc',\n",
       " 'balanitis',\n",
       " 'bandag',\n",
       " 'becom',\n",
       " 'behaviour',\n",
       " 'beliefs',\n",
       " 'benefit',\n",
       " 'beta',\n",
       " 'biliari',\n",
       " 'biotin',\n",
       " 'bite',\n",
       " 'blackhead',\n",
       " 'blackheads',\n",
       " 'bleaches',\n",
       " 'bleed',\n",
       " 'bloating',\n",
       " 'block',\n",
       " 'blood',\n",
       " 'bodi',\n",
       " 'bodyâ',\n",
       " 'bon',\n",
       " 'bone',\n",
       " 'bones',\n",
       " 'bowel',\n",
       " 'brain',\n",
       " 'breakdown',\n",
       " 'breath',\n",
       " 'brighten',\n",
       " 'bronchiti',\n",
       " 'brown',\n",
       " 'bursitis',\n",
       " 'calcium',\n",
       " 'calm',\n",
       " 'cancer',\n",
       " 'candid',\n",
       " 'candidiasis',\n",
       " 'canâ',\n",
       " 'carbohydr',\n",
       " 'cardiovascular',\n",
       " 'care',\n",
       " 'carrier',\n",
       " 'cartilag',\n",
       " 'case',\n",
       " 'cases',\n",
       " 'cataract',\n",
       " 'caus',\n",
       " 'cavity',\n",
       " 'cell',\n",
       " 'certain',\n",
       " 'chanc',\n",
       " 'chang',\n",
       " 'characteris',\n",
       " 'chemic',\n",
       " 'chemotherapi',\n",
       " 'chest',\n",
       " 'chickenpox',\n",
       " 'childhood',\n",
       " 'children',\n",
       " 'chlosma',\n",
       " 'cholesterol',\n",
       " 'chronic',\n",
       " 'clean',\n",
       " 'cleaner',\n",
       " 'cleanser',\n",
       " 'clear',\n",
       " 'clot',\n",
       " 'cmv',\n",
       " 'cold',\n",
       " 'colds',\n",
       " 'colic',\n",
       " 'colon',\n",
       " 'colorect',\n",
       " 'coma',\n",
       " 'combin',\n",
       " 'common',\n",
       " 'complet',\n",
       " 'complexion',\n",
       " 'concomit',\n",
       " 'condit',\n",
       " 'conditions',\n",
       " 'confused',\n",
       " 'confusion',\n",
       " 'congestion',\n",
       " 'conjunct',\n",
       " 'consciousness',\n",
       " 'consid',\n",
       " 'consist',\n",
       " 'constip',\n",
       " 'constipation',\n",
       " 'constipationâ',\n",
       " 'continu',\n",
       " 'contracept',\n",
       " 'control',\n",
       " 'contusion',\n",
       " 'convent',\n",
       " 'convulsion',\n",
       " 'corpori',\n",
       " 'corticosteroid',\n",
       " 'cough',\n",
       " 'cramp',\n",
       " 'cream',\n",
       " 'cruri',\n",
       " 'cushion',\n",
       " 'cycl',\n",
       " 'cytomegaloviru',\n",
       " 'cytoprotect',\n",
       " 'd3',\n",
       " 'daili',\n",
       " 'damag',\n",
       " 'dandruff',\n",
       " 'dark',\n",
       " 'death',\n",
       " 'decreas',\n",
       " 'defici',\n",
       " 'degrad',\n",
       " 'degre',\n",
       " 'delay',\n",
       " 'demand',\n",
       " 'dementia',\n",
       " 'dental',\n",
       " 'deposit',\n",
       " 'depress',\n",
       " 'depressed',\n",
       " 'dermat',\n",
       " 'deterg',\n",
       " 'diabet',\n",
       " 'diagnost',\n",
       " 'diarrhea',\n",
       " 'diarrhoea',\n",
       " 'diet',\n",
       " 'differ',\n",
       " 'difficult',\n",
       " 'difficulti',\n",
       " 'digest',\n",
       " 'digestion',\n",
       " 'dilate',\n",
       " 'discolor',\n",
       " 'discoloured',\n",
       " 'diseas',\n",
       " 'disord',\n",
       " 'disorder',\n",
       " 'disorders',\n",
       " 'displac',\n",
       " 'distens',\n",
       " 'dizzi',\n",
       " 'doctor',\n",
       " 'doe',\n",
       " 'drain',\n",
       " 'drained',\n",
       " 'dri',\n",
       " 'drop',\n",
       " 'drowsi',\n",
       " 'drugs',\n",
       " 'dull',\n",
       " 'dure',\n",
       " 'dysmenorrhea',\n",
       " 'ear',\n",
       " 'ears',\n",
       " 'eczema',\n",
       " 'effect',\n",
       " 'effects',\n",
       " 'elbow',\n",
       " 'element',\n",
       " 'emot',\n",
       " 'encephalopathi',\n",
       " 'endometriosi',\n",
       " 'energi',\n",
       " 'energy',\n",
       " 'enhanc',\n",
       " 'enlarg',\n",
       " 'enzym',\n",
       " 'enzyme',\n",
       " 'epicondylitis',\n",
       " 'episod',\n",
       " 'especi',\n",
       " 'essenti',\n",
       " 'event',\n",
       " 'excess',\n",
       " 'exercis',\n",
       " 'exfoli',\n",
       " 'exocrin',\n",
       " 'extern',\n",
       " 'extra',\n",
       " 'eye',\n",
       " 'eyes',\n",
       " 'face',\n",
       " 'fade',\n",
       " 'fail',\n",
       " 'failur',\n",
       " 'failure',\n",
       " 'fast',\n",
       " 'fat',\n",
       " 'fatigue',\n",
       " 'fats',\n",
       " 'fatti',\n",
       " 'febril',\n",
       " 'feed',\n",
       " 'feel',\n",
       " 'feet',\n",
       " 'fever',\n",
       " 'feverish',\n",
       " 'fibril',\n",
       " 'fine',\n",
       " 'fissur',\n",
       " 'flat',\n",
       " 'flatul',\n",
       " 'flatulence',\n",
       " 'flexibl',\n",
       " 'flow',\n",
       " 'flu',\n",
       " 'fluid',\n",
       " 'flutter',\n",
       " 'focus',\n",
       " 'folic',\n",
       " 'follow',\n",
       " 'food',\n",
       " 'foot',\n",
       " 'form',\n",
       " 'format',\n",
       " 'free',\n",
       " 'fresh',\n",
       " 'friction',\n",
       " 'function',\n",
       " 'fungal',\n",
       " 'fungi',\n",
       " 'fungu',\n",
       " 'gain',\n",
       " 'gener',\n",
       " 'genit',\n",
       " 'gland',\n",
       " 'glaucoma',\n",
       " 'glow',\n",
       " 'gonorrhoea',\n",
       " 'good',\n",
       " 'gout',\n",
       " 'gradual',\n",
       " 'gravi',\n",
       " 'growth',\n",
       " 'guilty',\n",
       " 'gum',\n",
       " 'ha',\n",
       " 'haematopoiesi',\n",
       " 'haemorrhoid',\n",
       " 'haemorrhoidectomi',\n",
       " 'haemorrhoids',\n",
       " 'hair',\n",
       " 'hallucinations',\n",
       " 'hands',\n",
       " 'hard',\n",
       " 'hay',\n",
       " 'head',\n",
       " 'headach',\n",
       " 'headache',\n",
       " 'heal',\n",
       " 'health',\n",
       " 'healthy',\n",
       " 'hear',\n",
       " 'hearing',\n",
       " 'heart',\n",
       " 'heartbeat',\n",
       " 'help',\n",
       " 'hepat',\n",
       " 'herp',\n",
       " 'high',\n",
       " 'hiv',\n",
       " 'hives',\n",
       " 'hormon',\n",
       " 'hospit',\n",
       " 'human',\n",
       " 'hygien',\n",
       " 'hypercalcaemia',\n",
       " 'hyperparathyroid',\n",
       " 'hyperpigment',\n",
       " 'hyperpigmentation',\n",
       " 'hypertens',\n",
       " 'hypertension',\n",
       " 'hyperthyroid',\n",
       " 'hypertrophi',\n",
       " 'hypnosi',\n",
       " 'hypotens',\n",
       " 'hypothyroid',\n",
       " 'hypothyroidism',\n",
       " 'hyroid',\n",
       " 'ibs',\n",
       " 'immun',\n",
       " 'immunodefici',\n",
       " 'improv',\n",
       " 'improvesâ',\n",
       " 'includ',\n",
       " 'incoher',\n",
       " 'incomplet',\n",
       " 'increas',\n",
       " 'indic',\n",
       " 'indigest',\n",
       " 'induc',\n",
       " 'infect',\n",
       " 'infection',\n",
       " 'infections',\n",
       " 'infest',\n",
       " 'inflamm',\n",
       " 'inflammationâ',\n",
       " 'inflammatori',\n",
       " 'influenza',\n",
       " 'infrequ',\n",
       " 'inguinalis',\n",
       " 'inhal',\n",
       " 'inhibitor',\n",
       " 'injuri',\n",
       " 'inner',\n",
       " 'insect',\n",
       " 'insid',\n",
       " 'insomnia',\n",
       " 'insufficiencyâ',\n",
       " 'integr',\n",
       " 'intens',\n",
       " 'interdigit',\n",
       " 'intern',\n",
       " 'interrupt',\n",
       " 'intestin',\n",
       " 'intestinal',\n",
       " 'intoler',\n",
       " 'invas',\n",
       " 'involuntari',\n",
       " 'iodine',\n",
       " 'iritis',\n",
       " 'iron',\n",
       " 'irrit',\n",
       " 'isâ',\n",
       " 'itch',\n",
       " 'itâ',\n",
       " 'jewelleri',\n",
       " 'jock',\n",
       " 'joint',\n",
       " 'kidney',\n",
       " 'kit',\n",
       " 'knees',\n",
       " 'known',\n",
       " 'lack',\n",
       " 'lactat',\n",
       " 'lead',\n",
       " 'learning',\n",
       " 'left',\n",
       " 'level',\n",
       " 'lice',\n",
       " 'life',\n",
       " 'ligaments',\n",
       " 'line',\n",
       " 'lip',\n",
       " 'liquid',\n",
       " 'liv',\n",
       " 'live',\n",
       " 'liver',\n",
       " 'long',\n",
       " 'look',\n",
       " 'lose',\n",
       " 'loss',\n",
       " 'lotion',\n",
       " 'lower',\n",
       " 'lowersâ',\n",
       " 'lowerâ',\n",
       " 'lung',\n",
       " 'lvh',\n",
       " 'mainli',\n",
       " 'maintain',\n",
       " 'major',\n",
       " 'make',\n",
       " 'malari',\n",
       " 'malaria',\n",
       " 'malignancies',\n",
       " 'manag',\n",
       " 'manganese',\n",
       " 'mani',\n",
       " 'manuum',\n",
       " 'marrow',\n",
       " 'medic',\n",
       " 'medicin',\n",
       " 'melanin',\n",
       " 'melasma',\n",
       " 'mellitu',\n",
       " 'memori',\n",
       " 'men',\n",
       " 'mening',\n",
       " 'menopaus',\n",
       " 'mental',\n",
       " 'metabol',\n",
       " 'methyl',\n",
       " 'micronutri',\n",
       " 'migrain',\n",
       " 'migraine',\n",
       " 'mild',\n",
       " 'milk',\n",
       " 'miner',\n",
       " 'minor',\n",
       " 'mistaken',\n",
       " 'mobil',\n",
       " 'moder',\n",
       " 'moderate',\n",
       " 'moistur',\n",
       " 'molybdenum',\n",
       " 'motion',\n",
       " 'movement',\n",
       " 'movements',\n",
       " 'muscl',\n",
       " 'muscular',\n",
       " 'musculoskelet',\n",
       " 'myalgia',\n",
       " 'myasthenia',\n",
       " 'mydriasi',\n",
       " 'myeloid',\n",
       " 'narrow',\n",
       " 'nasal',\n",
       " 'natur',\n",
       " 'nausea',\n",
       " 'need',\n",
       " 'nephropathy',\n",
       " 'nerv',\n",
       " 'nervosa',\n",
       " 'nervousness',\n",
       " 'nettl',\n",
       " 'neuralgia',\n",
       " 'neutral',\n",
       " 'newborns',\n",
       " 'nodular',\n",
       " 'non',\n",
       " 'normal',\n",
       " 'nose',\n",
       " 'nutrient',\n",
       " 'nutrit',\n",
       " 'occur',\n",
       " 'ocular',\n",
       " 'ofâ',\n",
       " 'oili',\n",
       " 'older',\n",
       " 'onli',\n",
       " 'op',\n",
       " 'open',\n",
       " 'oper',\n",
       " 'oral',\n",
       " 'origin',\n",
       " 'osteoarthr',\n",
       " 'osteodystrophy',\n",
       " 'osteoporosi',\n",
       " 'oxid',\n",
       " 'oxidation',\n",
       " 'pah',\n",
       " 'pain',\n",
       " 'pancrea',\n",
       " 'paralys',\n",
       " 'parathyroid',\n",
       " 'parkinson',\n",
       " 'parkinsonâ',\n",
       " 'passag',\n",
       " 'patch',\n",
       " 'patches',\n",
       " 'patient',\n",
       " 'patientsâ',\n",
       " 'pectori',\n",
       " 'pectoris',\n",
       " 'pedis',\n",
       " 'pelvic',\n",
       " 'penil',\n",
       " 'peopl',\n",
       " 'peptid',\n",
       " 'period',\n",
       " 'physic',\n",
       " 'piles',\n",
       " 'pimpl',\n",
       " 'pimple',\n",
       " 'pityriasi',\n",
       " 'polysaccharid',\n",
       " 'portal',\n",
       " 'post',\n",
       " 'potent',\n",
       " 'power',\n",
       " 'pre',\n",
       " 'prednisolon',\n",
       " 'pregnanc',\n",
       " 'prematur',\n",
       " 'preoper',\n",
       " 'prescrib',\n",
       " 'prescript',\n",
       " 'present',\n",
       " 'pressur',\n",
       " 'prevent',\n",
       " 'prexia',\n",
       " 'primari',\n",
       " 'prinzmet',\n",
       " 'problem',\n",
       " 'procedur',\n",
       " 'process',\n",
       " 'proctiti',\n",
       " 'produc',\n",
       " 'product',\n",
       " 'progress',\n",
       " 'prolactin',\n",
       " 'promot',\n",
       " 'properti',\n",
       " 'protect',\n",
       " 'provid',\n",
       " 'pseudo',\n",
       " 'psychosi',\n",
       " 'psychosomat',\n",
       " 'pulmonari',\n",
       " 'pupil',\n",
       " 'pyrexia',\n",
       " 'rabi',\n",
       " 'radicals',\n",
       " 'radiculitis',\n",
       " 'rais',\n",
       " 'rarer',\n",
       " 'rash',\n",
       " 'react',\n",
       " 'reaction',\n",
       " 'receiv',\n",
       " 'recommend',\n",
       " 'red',\n",
       " 'reduc',\n",
       " 'reduct',\n",
       " 'refer',\n",
       " 'regener',\n",
       " 'regimen',\n",
       " 'relat',\n",
       " 'releief',\n",
       " 'relief',\n",
       " 'reliev',\n",
       " 'reliv',\n",
       " 'remov',\n",
       " 'renal',\n",
       " 'repair',\n",
       " 'replac',\n",
       " 'reproduct',\n",
       " 'resist',\n",
       " 'respiratori',\n",
       " 'respond',\n",
       " 'respons',\n",
       " 'restor',\n",
       " 'ret',\n",
       " 'retin',\n",
       " 'rheumat',\n",
       " 'ring',\n",
       " 'ringworm',\n",
       " 'root',\n",
       " 'rosacea',\n",
       " 'scabi',\n",
       " 'scali',\n",
       " 'scalp',\n",
       " 'scar',\n",
       " 'schizophren',\n",
       " 'schizophrenia',\n",
       " 'seborrh',\n",
       " 'sed',\n",
       " 'sedat',\n",
       " 'sens',\n",
       " 'sever',\n",
       " 'shingl',\n",
       " 'short',\n",
       " 'sick',\n",
       " 'sickness',\n",
       " 'silki',\n",
       " 'simpl',\n",
       " 'simplex',\n",
       " 'sinusitis',\n",
       " 'skelet',\n",
       " 'skin',\n",
       " 'skinâ',\n",
       " 'sleep',\n",
       " 'slow',\n",
       " 'small',\n",
       " 'smoke',\n",
       " 'smooth',\n",
       " 'soaps',\n",
       " 'soar',\n",
       " 'soft',\n",
       " 'soften',\n",
       " 'soothen',\n",
       " 'sore',\n",
       " 'sores',\n",
       " 'spasmod',\n",
       " 'speech',\n",
       " 'speed',\n",
       " 'spondyl',\n",
       " 'spot',\n",
       " 'spots',\n",
       " 'sprain',\n",
       " 'spread',\n",
       " 'stabil',\n",
       " 'starch',\n",
       " 'start',\n",
       " 'state',\n",
       " 'steroids',\n",
       " 'stiff',\n",
       " 'stomach',\n",
       " 'stools',\n",
       " 'stop',\n",
       " 'strains',\n",
       " 'strengthen',\n",
       " 'stroke',\n",
       " 'structur',\n",
       " 'substanc',\n",
       " 'suffer',\n",
       " 'sugar',\n",
       " 'sunburn',\n",
       " 'sunscreen',\n",
       " 'suppl',\n",
       " 'supplement',\n",
       " 'support',\n",
       " 'surgeri',\n",
       " 'surgeryâ',\n",
       " 'surgic',\n",
       " 'suspiciousness',\n",
       " 'sweat',\n",
       " 'swell',\n",
       " 'swelling',\n",
       " 'swollen',\n",
       " 'symptom',\n",
       " 'symptomat',\n",
       " 'symptoms',\n",
       " 'syndrom',\n",
       " 'synovi',\n",
       " 'synovitis',\n",
       " 'synthesi',\n",
       " 'synthet',\n",
       " 'syphilis',\n",
       " 'tablet',\n",
       " 'tachycardia',\n",
       " 'task',\n",
       " 'temperature',\n",
       " 'tender',\n",
       " 'tendonitis',\n",
       " 'tens',\n",
       " 'term',\n",
       " 'textur',\n",
       " 'therapi',\n",
       " 'therebi',\n",
       " 'thi',\n",
       " 'thing',\n",
       " 'throat',\n",
       " 'thrombolysi',\n",
       " 'thrush',\n",
       " 'thu',\n",
       " 'thyroid',\n",
       " 'thyroxin',\n",
       " 'time',\n",
       " 'tinea',\n",
       " 'tinnitus',\n",
       " 'tissu',\n",
       " 'tissues',\n",
       " 'toe',\n",
       " 'tone',\n",
       " 'tonsil',\n",
       " 'tonsilitis',\n",
       " 'tonsillectomi',\n",
       " 'toothach',\n",
       " 'toothache',\n",
       " 'topic',\n",
       " 'trace',\n",
       " 'tract',\n",
       " 'transmit',\n",
       " 'transplant',\n",
       " 'trauma',\n",
       " 'traumat',\n",
       " 'travel',\n",
       " 'treat',\n",
       " 'treatment',\n",
       " 'treatsâ',\n",
       " 'treatâ',\n",
       " 'tremor',\n",
       " 'triglycerid',\n",
       " 'tubercular',\n",
       " 'type',\n",
       " 'ulcer',\n",
       " 'unabl',\n",
       " 'unbalanc',\n",
       " 'uncompl',\n",
       " 'uneven',\n",
       " 'unstabl',\n",
       " 'unusu',\n",
       " 'unwant',\n",
       " 'upper',\n",
       " 'uptak',\n",
       " 'urate',\n",
       " 'uretericâ',\n",
       " 'uric',\n",
       " 'urinaryâ',\n",
       " 'use',\n",
       " 'uses',\n",
       " 'usual',\n",
       " 'uveiti',\n",
       " 'vaccin',\n",
       " 'vagin',\n",
       " 'variant',\n",
       " 'varieti',\n",
       " 'ventricular',\n",
       " 'verruca',\n",
       " 'versicolor',\n",
       " 'vertigo',\n",
       " 'vessel',\n",
       " 'viral',\n",
       " 'viru',\n",
       " 'virus',\n",
       " 'vitamin',\n",
       " 'vitamins',\n",
       " 'volume',\n",
       " 'vomit',\n",
       " 'vulgari',\n",
       " 'vulgarisâ',\n",
       " 'wall',\n",
       " 'wart',\n",
       " 'wash',\n",
       " 'weak',\n",
       " 'weaken',\n",
       " 'weight',\n",
       " 'wet',\n",
       " 'whichâ',\n",
       " 'whilst',\n",
       " 'white',\n",
       " 'widen',\n",
       " 'withdrawn',\n",
       " 'womb',\n",
       " 'women',\n",
       " 'work',\n",
       " 'worsen',\n",
       " 'wound',\n",
       " 'wrinkl',\n",
       " 'wrinkles',\n",
       " 'year',\n",
       " 'younger',\n",
       " 'zinc',\n",
       " 'œpancreat']"
      ]
     },
     "execution_count": 31,
     "metadata": {},
     "output_type": "execute_result"
    }
   ],
   "source": [
    "cv.get_feature_names()"
   ]
  },
  {
   "cell_type": "code",
   "execution_count": 32,
   "metadata": {
    "execution": {
     "iopub.execute_input": "2022-05-26T15:31:06.364175Z",
     "iopub.status.busy": "2022-05-26T15:31:06.363737Z",
     "iopub.status.idle": "2022-05-26T15:31:06.368475Z",
     "shell.execute_reply": "2022-05-26T15:31:06.367582Z",
     "shell.execute_reply.started": "2022-05-26T15:31:06.364142Z"
    }
   },
   "outputs": [],
   "source": [
    "from sklearn.metrics.pairwise import cosine_similarity"
   ]
  },
  {
   "cell_type": "code",
   "execution_count": 33,
   "metadata": {
    "execution": {
     "iopub.execute_input": "2022-05-26T15:31:12.307965Z",
     "iopub.status.busy": "2022-05-26T15:31:12.307555Z",
     "iopub.status.idle": "2022-05-26T15:31:13.947035Z",
     "shell.execute_reply": "2022-05-26T15:31:13.946057Z",
     "shell.execute_reply.started": "2022-05-26T15:31:12.307931Z"
    }
   },
   "outputs": [
    {
     "data": {
      "text/plain": [
       "array([[1.        , 0.25197632, 0.43643578, ..., 0.        , 0.        ,\n",
       "        0.        ],\n",
       "       [0.25197632, 1.        , 0.25660012, ..., 0.19245009, 0.1490712 ,\n",
       "        0.0860663 ],\n",
       "       [0.43643578, 0.25660012, 1.        , ..., 0.11111111, 0.0860663 ,\n",
       "        0.0993808 ],\n",
       "       ...,\n",
       "       [0.        , 0.19245009, 0.11111111, ..., 1.        , 0.77459667,\n",
       "        0.2981424 ],\n",
       "       [0.        , 0.1490712 , 0.0860663 , ..., 0.77459667, 1.        ,\n",
       "        0.34641016],\n",
       "       [0.        , 0.0860663 , 0.0993808 , ..., 0.2981424 , 0.34641016,\n",
       "        1.        ]])"
      ]
     },
     "execution_count": 33,
     "metadata": {},
     "output_type": "execute_result"
    }
   ],
   "source": [
    "cosine_similarity(vectors)"
   ]
  },
  {
   "cell_type": "code",
   "execution_count": 34,
   "metadata": {
    "execution": {
     "iopub.execute_input": "2022-05-26T15:31:20.837817Z",
     "iopub.status.busy": "2022-05-26T15:31:20.837383Z",
     "iopub.status.idle": "2022-05-26T15:31:22.665373Z",
     "shell.execute_reply": "2022-05-26T15:31:22.663586Z",
     "shell.execute_reply.started": "2022-05-26T15:31:20.837784Z"
    }
   },
   "outputs": [],
   "source": [
    "similarity = cosine_similarity(vectors)"
   ]
  },
  {
   "cell_type": "code",
   "execution_count": 35,
   "metadata": {
    "execution": {
     "iopub.execute_input": "2022-05-26T15:31:25.762261Z",
     "iopub.status.busy": "2022-05-26T15:31:25.761176Z",
     "iopub.status.idle": "2022-05-26T15:31:25.771667Z",
     "shell.execute_reply": "2022-05-26T15:31:25.770795Z",
     "shell.execute_reply.started": "2022-05-26T15:31:25.762222Z"
    }
   },
   "outputs": [
    {
     "data": {
      "text/plain": [
       "array([0.25197632, 1.        , 0.25660012, ..., 0.19245009, 0.1490712 ,\n",
       "       0.0860663 ])"
      ]
     },
     "execution_count": 35,
     "metadata": {},
     "output_type": "execute_result"
    }
   ],
   "source": [
    "similarity[1]"
   ]
  },
  {
   "cell_type": "code",
   "execution_count": 36,
   "metadata": {
    "execution": {
     "iopub.execute_input": "2022-05-26T15:31:40.159068Z",
     "iopub.status.busy": "2022-05-26T15:31:40.158323Z",
     "iopub.status.idle": "2022-05-26T15:31:40.166757Z",
     "shell.execute_reply": "2022-05-26T15:31:40.165868Z",
     "shell.execute_reply.started": "2022-05-26T15:31:40.159020Z"
    }
   },
   "outputs": [],
   "source": [
    "def recommend(medicine):\n",
    "    medicine_index = new_df[new_df['Drug_Name'] == medicine].index[0]\n",
    "    distances = similarity[medicine_index]\n",
    "    medicines_list = sorted(list(enumerate(distances)),reverse=True,key=lambda x:x[1])[1:6]\n",
    "    \n",
    "    for i in medicines_list:\n",
    "        print(new_df.iloc[i[0]].Drug_Name)\n",
    "    "
   ]
  },
  {
   "cell_type": "code",
   "execution_count": 37,
   "metadata": {
    "execution": {
     "iopub.execute_input": "2022-05-26T15:31:57.566701Z",
     "iopub.status.busy": "2022-05-26T15:31:57.565934Z",
     "iopub.status.idle": "2022-05-26T15:31:57.589837Z",
     "shell.execute_reply": "2022-05-26T15:31:57.588991Z",
     "shell.execute_reply.started": "2022-05-26T15:31:57.566659Z"
    }
   },
   "outputs": [
    {
     "name": "stdout",
     "output_type": "stream",
     "text": [
      "Oxypamol D Tablet 10'S\n",
      "Pacimol MF Tablet 10'S\n",
      "Painil Plus 100/500mg Tablet 10'S\n",
      "Pamagin Plus Gel 30gm\n",
      "Paracetamol 125mg Syrup 60mlParacetamol 500mg Tablet 10'S\n"
     ]
    }
   ],
   "source": [
    "recommend(\"Paracetamol 125mg Syrup 60mlParacetamol 500mg Tablet 10'S\")"
   ]
  },
  {
   "cell_type": "code",
   "execution_count": 38,
   "metadata": {
    "execution": {
     "iopub.execute_input": "2022-05-26T15:32:35.447060Z",
     "iopub.status.busy": "2022-05-26T15:32:35.446511Z",
     "iopub.status.idle": "2022-05-26T15:32:35.451544Z",
     "shell.execute_reply": "2022-05-26T15:32:35.450612Z",
     "shell.execute_reply.started": "2022-05-26T15:32:35.447016Z"
    }
   },
   "outputs": [],
   "source": [
    "import pickle"
   ]
  },
  {
   "cell_type": "code",
   "execution_count": 39,
   "metadata": {
    "execution": {
     "iopub.execute_input": "2022-05-26T15:32:53.662097Z",
     "iopub.status.busy": "2022-05-26T15:32:53.661648Z",
     "iopub.status.idle": "2022-05-26T15:32:56.474199Z",
     "shell.execute_reply": "2022-05-26T15:32:56.473238Z",
     "shell.execute_reply.started": "2022-05-26T15:32:53.662065Z"
    }
   },
   "outputs": [],
   "source": [
    "pickle.dump(new_df.to_dict(),open('medicine_dict.pkl','wb'))\n",
    "pickle.dump(similarity,open('similarity.pkl','wb'))"
   ]
  }
 ],
 "metadata": {
  "kernelspec": {
   "display_name": "Python 3 (ipykernel)",
   "language": "python",
   "name": "python3"
  },
  "language_info": {
   "codemirror_mode": {
    "name": "ipython",
    "version": 3
   },
   "file_extension": ".py",
   "mimetype": "text/x-python",
   "name": "python",
   "nbconvert_exporter": "python",
   "pygments_lexer": "ipython3",
   "version": "3.9.7"
  }
 },
 "nbformat": 4,
 "nbformat_minor": 4
}
